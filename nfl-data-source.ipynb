{
 "cells": [
  {
   "cell_type": "markdown",
   "metadata": {},
   "source": [
    "# NFL Data Source"
   ]
  },
  {
   "cell_type": "markdown",
   "metadata": {},
   "source": [
    "**This module uses the nflgame package to collect game data**\n",
    "\n",
    "Note: this module uses python 2 as opposed to python 3 that is used in the other parts of this project, this is because the nflgame module does not support python 3"
   ]
  },
  {
   "cell_type": "code",
   "execution_count": 1,
   "metadata": {
    "collapsed": true
   },
   "outputs": [],
   "source": [
    "import nflgame\n",
    "import pandas as pd"
   ]
  },
  {
   "cell_type": "code",
   "execution_count": 2,
   "metadata": {},
   "outputs": [],
   "source": [
    "################################################################################\n",
    "# Title: Game To JSON\n",
    "# Description: Takes game data as a tuple and converts it into a json type\n",
    "#\n",
    "# Parameters: a tuple with the data home, away, score_away, score_home, \n",
    "#     schedule with week and year, and a tuple: TeamStats(first_downs, total_yds, \n",
    "#     passing_yds, rushing_yds, penalty_cnt, penalty_yds, turnovers, punt_cnt, \n",
    "#     punt_yds, punt_avg, pos_time) for both home and away\n",
    "#\n",
    "# Returns: Same \n",
    "################################################################################\n",
    "def game_to_json(game):\n",
    "    stats = {\n",
    "        'away': game.away,\n",
    "        'away_score': game.score_away,\n",
    "        'away_stats': [x for x in game.stats_away],\n",
    "        'home': game.home,\n",
    "        'home_score': game.score_home,\n",
    "        'home_stats': [x for x in game.stats_away],\n",
    "        'week': game.schedule['week'],\n",
    "        'year': game.schedule['year']\n",
    "    }\n",
    "    stats['home_stats'][-1] = stats['home_stats'][-1].total_seconds()\n",
    "    stats['away_stats'][-1] = stats['away_stats'][-1].total_seconds()\n",
    "    return stats"
   ]
  },
  {
   "cell_type": "code",
   "execution_count": 3,
   "metadata": {
    "collapsed": true
   },
   "outputs": [],
   "source": [
    "years = [2009,2010,2011,2012,2013,2014,2015,2016]"
   ]
  },
  {
   "cell_type": "code",
   "execution_count": 4,
   "metadata": {},
   "outputs": [],
   "source": [
    "df = pd.DataFrame()\n",
    "for year in years:\n",
    "    games = nflgame.games(year)\n",
    "    for game in games:\n",
    "        game_stats = game_to_json(game)\n",
    "        df = pd.concat([df, pd.DataFrame([game_stats])])"
   ]
  },
  {
   "cell_type": "code",
   "execution_count": 5,
   "metadata": {
    "collapsed": true
   },
   "outputs": [],
   "source": [
    "df.to_csv('data/game_data')"
   ]
  },
  {
   "cell_type": "code",
   "execution_count": null,
   "metadata": {
    "collapsed": true
   },
   "outputs": [],
   "source": []
  }
 ],
 "metadata": {
  "kernelspec": {
   "display_name": "Python 2",
   "language": "python",
   "name": "python2"
  },
  "language_info": {
   "codemirror_mode": {
    "name": "ipython",
    "version": 2
   },
   "file_extension": ".py",
   "mimetype": "text/x-python",
   "name": "python",
   "nbconvert_exporter": "python",
   "pygments_lexer": "ipython2",
   "version": "2.7.13"
  },
  "toc": {
   "colors": {
    "hover_highlight": "#DAA520",
    "running_highlight": "#FF0000",
    "selected_highlight": "#FFD700"
   },
   "moveMenuLeft": true,
   "nav_menu": {
    "height": "30px",
    "width": "252px"
   },
   "navigate_menu": true,
   "number_sections": true,
   "sideBar": true,
   "threshold": 4,
   "toc_cell": false,
   "toc_section_display": "block",
   "toc_window_display": false,
   "widenNotebook": false
  }
 },
 "nbformat": 4,
 "nbformat_minor": 2
}
