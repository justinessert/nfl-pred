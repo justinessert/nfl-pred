{
 "cells": [
  {
   "cell_type": "code",
   "execution_count": null,
   "metadata": {
    "collapsed": true
   },
   "outputs": [],
   "source": [
    "from __future__ import division, print_function, absolute_import\n",
    "\n",
    "import tensorflow as tf\n",
    "import numpy as np"
   ]
  },
  {
   "cell_type": "code",
   "execution_count": null,
   "metadata": {
    "collapsed": true
   },
   "outputs": [],
   "source": [
    "# Parameters for the network\n",
    "num_epochs = 20\n",
    "batch_size = 32\n",
    "step = 1\n",
    "\n",
    "# Sizes of each layer\n",
    "n_input = 11\n",
    "n_hidden_1 = 10\n",
    "n_hidden_2 = 5"
   ]
  },
  {
   "cell_type": "code",
   "execution_count": null,
   "metadata": {
    "collapsed": true
   },
   "outputs": [],
   "source": [
    "df = pd.read_csv('data/raw_input.csv')"
   ]
  },
  {
   "cell_type": "code",
   "execution_count": null,
   "metadata": {
    "collapsed": true
   },
   "outputs": [],
   "source": [
    "################################################################################\n",
    "# Name: Encode\n",
    "#\n",
    "# Function: Creates an encoder network\n",
    "#\n",
    "# Parameters:\n",
    "#     x - tf layer that will be the input to the encoder\n",
    "#     weights - dictionary of weight definitions\n",
    "#     biases - dictionary of bias definitions\n",
    "################################################################################\n",
    "def encode(x, weights, biases):\n",
    "    with tf.name_scope('encoder'):\n",
    "        x = tf.nn.sigmoid(tf.add(tf.matmul(x, weights['encode_1']),\n",
    "                                 biases['encode_1']))\n",
    "        x = tf.nn.sigmoid(tf.add(tf.matmul(x, weights['encode_2']),\n",
    "                                 biases['encode_2']))\n",
    "    return x\n",
    "\n",
    "\n",
    "################################################################################\n",
    "# Name: Decode\n",
    "#\n",
    "# Function: Creates an decoder network\n",
    "#\n",
    "# Parameters:\n",
    "#     x - tf layer that will be the input to the decoder\n",
    "#     weights - dictionary of weight definitions\n",
    "#     biases - dictionary of bias definitions\n",
    "################################################################################\n",
    "def decode(x, weights, biases):\n",
    "    with tf.name_scope('decoder'):\n",
    "        x = tf.nn.sigmoid(tf.add(tf.matmul(x, weights['decode_1']), \n",
    "                                 biases['decode_1']))\n",
    "        x = tf.nn.sigmoid(tf.add(tf.matmul(x, weights['decode_2']),\n",
    "                                 biases['decode_2']))\n",
    "    return x"
   ]
  },
  {
   "cell_type": "code",
   "execution_count": null,
   "metadata": {
    "collapsed": true
   },
   "outputs": [],
   "source": [
    "# Input Placeholder\n",
    "X = tf.placeholder(\"float\", [None, n_input])\n",
    "\n",
    "# Weight Variables\n",
    "weights = {\n",
    "    'encode_1': tf.Variable(tf.random_normal([n_input, n_hidden_1])),\n",
    "    'encode_2': tf.Variable(tf.random_normal([n_hidden_1, n_hidden_2])),\n",
    "    'decode_1': tf.Variable(tf.random_normal([n_hidden_2, n_hidden_1])),\n",
    "    'decode_2': tf.Variable(tf.random_normal([n_hidden_1, n_input])),\n",
    "}\n",
    "\n",
    "# Bias Variables\n",
    "biases = {\n",
    "    'encode_1': tf.Variable(tf.random_normal([n_hidden_1])),\n",
    "    'encode_2': tf.Variable(tf.random_normal([n_hidden_2])),\n",
    "    'decode_1': tf.Variable(tf.random_normal([n_hidden_1])),\n",
    "    'decode_2': tf.Variable(tf.random_normal([n_input])),\n",
    "}"
   ]
  },
  {
   "cell_type": "code",
   "execution_count": null,
   "metadata": {
    "collapsed": true
   },
   "outputs": [],
   "source": [
    "# Construct the model\n",
    "encoded = encoder(X, weights, biases)\n",
    "y = decoder(X, weights,biases)"
   ]
  },
  {
   "cell_type": "code",
   "execution_count": null,
   "metadata": {
    "collapsed": true
   },
   "outputs": [],
   "source": [
    "# Using MSE with an Adam Optimizer\n",
    "loss = tf.reduce_mean(tf.pow(X-y, 2))\n",
    "optimizer = tf.train.AdamOptimizer().minimize(loss)"
   ]
  },
  {
   "cell_type": "code",
   "execution_count": null,
   "metadata": {
    "collapsed": true
   },
   "outputs": [],
   "source": [
    "# Initialize Variables\n",
    "init = tf.global_variables_initializer()"
   ]
  },
  {
   "cell_type": "code",
   "execution_count": null,
   "metadata": {
    "collapsed": true
   },
   "outputs": [],
   "source": [
    "# Launch the graph\n",
    "with tf.Session() as sess:\n",
    "    sess.run(init)\n",
    "    total_batch = int(len(data)/batch_size)\n",
    "\n",
    "    for epoch in range(num_epochs):\n",
    "        for i in range(total_batch):\n",
    "            batch_xs, batch_ys = mnist.train.next_batch(batch_size)\n",
    "            # Run optimization op (backprop) and cost op (to get loss value)\n",
    "            _, c = sess.run([optimizer, cost], feed_dict={X: batch_xs})\n",
    "        # Display logs per epoch step\n",
    "        if epoch % step == 0:\n",
    "            print(\"Epoch:\", '%04d' % (epoch+1),\n",
    "                  \"cost=\", \"{:.9f}\".format(c))\n",
    "\n",
    "    print(\"Training Complete\")\n",
    "\n",
    "    # Applying encode and decode over test set\n",
    "    encode_decode = sess.run(\n",
    "        y, feed_dict={X: mnist.test.images[:examples_to_show]})"
   ]
  }
 ],
 "metadata": {
  "kernelspec": {
   "display_name": "Python 3",
   "language": "python",
   "name": "python3"
  },
  "language_info": {
   "codemirror_mode": {
    "name": "ipython",
    "version": 3
   },
   "file_extension": ".py",
   "mimetype": "text/x-python",
   "name": "python",
   "nbconvert_exporter": "python",
   "pygments_lexer": "ipython3",
   "version": "3.6.1"
  },
  "toc": {
   "colors": {
    "hover_highlight": "#DAA520",
    "running_highlight": "#FF0000",
    "selected_highlight": "#FFD700"
   },
   "moveMenuLeft": true,
   "nav_menu": {
    "height": "12px",
    "width": "252px"
   },
   "navigate_menu": true,
   "number_sections": true,
   "sideBar": true,
   "threshold": 4,
   "toc_cell": false,
   "toc_section_display": "block",
   "toc_window_display": false,
   "widenNotebook": false
  }
 },
 "nbformat": 4,
 "nbformat_minor": 2
}
